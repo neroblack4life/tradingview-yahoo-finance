{
  "nbformat": 4,
  "nbformat_minor": 0,
  "metadata": {
    "colab": {
      "provenance": [],
      "include_colab_link": true
    },
    "kernelspec": {
      "name": "python3",
      "display_name": "Python 3"
    },
    "language_info": {
      "name": "python"
    }
  },
  "cells": [
    {
      "cell_type": "markdown",
      "metadata": {
        "id": "view-in-github",
        "colab_type": "text"
      },
      "source": [
        "<a href=\"https://colab.research.google.com/github/neroblack4life/tradingview-yahoo-finance/blob/main/AnchoredVWAP_Pytvlwcharts_Flask.ipynb\" target=\"_parent\"><img src=\"https://colab.research.google.com/assets/colab-badge.svg\" alt=\"Open In Colab\"/></a>"
      ]
    },
    {
      "cell_type": "code",
      "execution_count": null,
      "metadata": {
        "id": "_zUZTOvSgmx9",
        "colab": {
          "base_uri": "https://localhost:8080/"
        },
        "outputId": "f2ae1c80-58fa-468d-a4cc-9ff2905d303c"
      },
      "outputs": [
        {
          "output_type": "stream",
          "name": "stdout",
          "text": [
            "  Preparing metadata (setup.py) ... \u001b[?25l\u001b[?25hdone\n",
            "  Preparing metadata (setup.py) ... \u001b[?25l\u001b[?25hdone\n",
            "\u001b[2K     \u001b[90m━━━━━━━━━━━━━━━━━━━━━━━━━━━━━━━━━━━━━━━\u001b[0m \u001b[32m115.1/115.1 KB\u001b[0m \u001b[31m6.4 MB/s\u001b[0m eta \u001b[36m0:00:00\u001b[0m\n",
            "\u001b[?25h  Preparing metadata (setup.py) ... \u001b[?25l\u001b[?25hdone\n",
            "\u001b[2K     \u001b[90m━━━━━━━━━━━━━━━━━━━━━━━━━━━━━━━━━━━━━━━━\u001b[0m \u001b[32m3.9/3.9 MB\u001b[0m \u001b[31m56.4 MB/s\u001b[0m eta \u001b[36m0:00:00\u001b[0m\n",
            "\u001b[2K     \u001b[90m━━━━━━━━━━━━━━━━━━━━━━━━━━━━━━━━━━━━━━━\u001b[0m \u001b[32m55.9/55.9 KB\u001b[0m \u001b[31m107.3 MB/s\u001b[0m eta \u001b[36m0:00:00\u001b[0m\n",
            "\u001b[?25h  Building wheel for pytvlwcharts (setup.py) ... \u001b[?25l\u001b[?25hdone\n",
            "  Building wheel for tvdatafeed (setup.py) ... \u001b[?25l\u001b[?25hdone\n",
            "  Building wheel for pandas_ta (setup.py) ... \u001b[?25l\u001b[?25hdone\n"
          ]
        }
      ],
      "source": [
        "!pip install --quiet --upgrade --no-cache-dir git+https://github.com/TechfaneTechnologies/pytvlwcharts.git git+https://github.com/StreamAlpha/tvdatafeed.git pandas_ta flask-cloudflared"
      ]
    },
    {
      "cell_type": "code",
      "source": [
        "import sys\n",
        "import pytz\n",
        "import requests\n",
        "import warnings\n",
        "import numpy as np\n",
        "import pandas as pd\n",
        "import datetime as dt\n",
        "import pandas_ta as ta\n",
        "from dateutil import tz\n",
        "from typing import Union\n",
        "from copy import deepcopy\n",
        "from pytvlwcharts import *\n",
        "from tvDatafeed import TvDatafeed, Interval\n",
        "from flask import (\n",
        "    Flask,\n",
        "    jsonify,\n",
        "    request,\n",
        "    Response,\n",
        "    render_template_string,\n",
        ")\n",
        "from flask_cloudflared import run_with_cloudflared\n",
        "warnings.filterwarnings(\"ignore\", \"warn\", category=DeprecationWarning)"
      ],
      "metadata": {
        "id": "2uInQ2Vng3Y_"
      },
      "execution_count": null,
      "outputs": []
    },
    {
      "cell_type": "code",
      "source": [
        "from_zone = tz.gettz(\"UTC\")\n",
        "to_zone = tz.gettz(\"Asia/Kolkata\")\n",
        "_headers = {\n",
        "    \"User-Agent\": requests.get(\n",
        "        \"https://techfanetechnologies.github.io/latest-user-agent/user_agents.json\"\n",
        "    ).json()[-2]\n",
        "}"
      ],
      "metadata": {
        "id": "d4UqutD2hBp0"
      },
      "execution_count": null,
      "outputs": []
    },
    {
      "cell_type": "code",
      "source": [
        "def getChart(notebook_mode:bool=True) -> Chart:\n",
        "    return Chart(\n",
        "        notebook_mode=notebook_mode,\n",
        "        layout=LayoutOptions(\n",
        "            background=SolidColor(color=\"#222\"),\n",
        "            background_color=\"#222\",\n",
        "            text_color=\"#DDD\",\n",
        "        ),\n",
        "        grid=GridOptions(\n",
        "            horz_lines=GridLineOptions(\n",
        "                color=\"#444\",\n",
        "                style=LineStyle.LINESTYLE_0,\n",
        "                visible=False,\n",
        "            ),\n",
        "            vert_lines=GridLineOptions(\n",
        "                color=\"#444\",\n",
        "                style=LineStyle.LINESTYLE_0,\n",
        "                visible=False,\n",
        "            ),\n",
        "        ),\n",
        "        width=1200,\n",
        "        height=500,\n",
        "        time_scale=TimeScaleOptions(\n",
        "            seconds_visible=True,\n",
        "            time_visible=True,\n",
        "            border_visible=True,\n",
        "            border_color=\"#71649C\",\n",
        "        ),\n",
        "        price_scale=PriceScaleOptions(\n",
        "            auto_scale=True,\n",
        "            border_visible=True,\n",
        "            border_color=\"#71649C\",\n",
        "            scale_margins=PriceScaleMargins(bottom=0.4, top=0.1),\n",
        "        ),\n",
        "        overlay_price_scales=OverlayPriceScaleOptions(\n",
        "            scale_margins=PriceScaleMargins(bottom=0, top=0.7)\n",
        "        ),\n",
        "    )"
      ],
      "metadata": {
        "id": "xq6EIeznhBjD"
      },
      "execution_count": null,
      "outputs": []
    },
    {
      "cell_type": "code",
      "source": [
        "def AnchoredVwap(\n",
        "    df: pd.DataFrame, anchor: pd.Timestamp, anchor_timeframe: str = \"D\"\n",
        ") -> pd.DataFrame:\n",
        "    df[\"time\"] = df.index.tz_localize(pytz.utc).tz_convert(\n",
        "        pytz.timezone(\"Asia/Kolkata\")\n",
        "    )\n",
        "    df.set_index(pd.DatetimeIndex(df[\"time\"]), inplace=True)\n",
        "    df.drop(columns=[\"time\", \"symbol\"], inplace=True)\n",
        "    df = pd.concat([df, df.ta.vwap(anchor=anchor_timeframe)], axis=1)\n",
        "    tpp = ((df[\"high\"] + df[\"low\"] + df[\"close\"]) * df[\"volume\"]) / 3\n",
        "    df[\"anchored_VWAP\"] = (\n",
        "        tpp.where(df.index >= anchor).groupby(df.index >= anchor).cumsum()\n",
        "        / df[\"volume\"].where(df.index >= anchor).groupby(df.index >= anchor).cumsum()\n",
        "    )\n",
        "    df.reset_index(inplace=True)\n",
        "    df[\"time\"] = (df.time.view(np.int64) // 1000000000) + 19800\n",
        "    return df"
      ],
      "metadata": {
        "id": "rcszBK8uhHzt"
      },
      "execution_count": null,
      "outputs": []
    },
    {
      "cell_type": "code",
      "source": [
        "def getOHLCVData(\n",
        "    symbol: str = \"NIFTY\",\n",
        "    exchange: str = \"NSE\",\n",
        "    chart_interval: Interval = Interval.in_15_minute,\n",
        "    n_bars: int = 5000,\n",
        "    anchor: pd.Timestamp = pd.to_datetime(\"2023-02-10 09:45:00+0530\"),\n",
        "    anchor_timeframe: str = \"15min\",\n",
        "    is_future: bool = True,\n",
        ") -> pd.DataFrame:\n",
        "    tv = TvDatafeed()\n",
        "    data = tv.get_hist(\n",
        "        symbol=symbol.upper(),\n",
        "        exchange=exchange.upper(),\n",
        "        interval=chart_interval,\n",
        "        n_bars=n_bars,\n",
        "        fut_contract=int(is_future),\n",
        "    )\n",
        "    df = AnchoredVwap(\n",
        "        df=data,\n",
        "        anchor=anchor,\n",
        "        anchor_timeframe=anchor_timeframe,\n",
        "    )\n",
        "    df[\"volColor\"] = np.select(\n",
        "        [\n",
        "            (df[\"open\"] < df[\"close\"]),\n",
        "            (df[\"open\"] > df[\"close\"])\n",
        "        ],\n",
        "        [\"#26a69a\", \"#ef5350\"]\n",
        "    )\n",
        "    return df"
      ],
      "metadata": {
        "id": "Fm-qar16hLy3"
      },
      "execution_count": null,
      "outputs": []
    },
    {
      "cell_type": "code",
      "source": [
        "def PrepareChart(\n",
        "    symbol: str = \"NIFTY\",\n",
        "    exchange: str = \"NSE\",\n",
        "    chart_interval: Interval = Interval.in_15_minute,\n",
        "    n_bars: int = 5000,\n",
        "    anchor: pd.Timestamp = pd.to_datetime(\"2023-02-10 09:45:00+0530\"),\n",
        "    anchor_timeframe: str = \"15min\",\n",
        "    is_future: bool = True,\n",
        "    notebook_mode: bool = True,\n",
        ") -> Union[str, Chart]:\n",
        "    chart = getChart(notebook_mode)\n",
        "    df = getOHLCVData(\n",
        "        symbol=symbol,\n",
        "        exchange=exchange,\n",
        "        chart_interval=chart_interval,\n",
        "        n_bars=n_bars,\n",
        "        anchor=anchor,\n",
        "        anchor_timeframe=anchor_timeframe,\n",
        "        is_future=is_future,\n",
        "    )\n",
        "    chart.mark_candlestick(\n",
        "        upColor=\"#26a69a\",\n",
        "        downColor=\"#ef5350\",\n",
        "        borderVisible=False,\n",
        "        wickUpColor=\"#26a69a\",\n",
        "        wickDownColor=\"#ef5350\",\n",
        "        data=df[[\"time\", \"open\", \"high\", \"low\", \"close\"]],\n",
        "        title=symbol + \"1!\" if is_future else symbol,\n",
        "        series_name=\"ohlc\",\n",
        "    )\n",
        "    chart.mark_histogram(\n",
        "        data=df[[\"time\", \"volume\", \"volColor\"]].rename(\n",
        "            columns={\"volume\": \"value\", \"volColor\": \"color\"}\n",
        "        ),\n",
        "        title=\"Volume\",\n",
        "        priceFormat={\"type\": \"volume\"},\n",
        "        priceScaleId=\"\",\n",
        "        series_name=\"volume\",\n",
        "    )\n",
        "    chart.mark_line(\n",
        "        data=df.dropna()[[\"time\", \"anchored_VWAP\"]].rename(\n",
        "            columns={\"anchored_VWAP\": \"value\"}\n",
        "        ),\n",
        "        title=\"AnchoredVWAP\",\n",
        "        color=\"orange\",\n",
        "        lineWidth=LineWidth.LINEWIDTH_3,\n",
        "        series_name=\"avwap\",\n",
        "    )\n",
        "    if notebook_mode:\n",
        "        return chart\n",
        "    else:\n",
        "        return (\n",
        "            chart._repr_html_()\n",
        "            .replace(\": 500\", \": document.body.offsetHeight\")\n",
        "            .replace(\": 1200\", \": document.body.offsetWidth\")\n",
        "        )"
      ],
      "metadata": {
        "id": "-6tURopuro-z"
      },
      "execution_count": null,
      "outputs": []
    },
    {
      "cell_type": "code",
      "source": [
        "app = Flask(__name__)\n",
        "\n",
        "# Auto Background Fetching and updation of data from this endpoint.\n",
        "# http://127.0.0.1:5000/data/NIFTY\n",
        "# https://rachel-exclusive-context-occupied.trycloudflare.com/data/NIFTY\n",
        "@app.route(\"/data/<symbol>\", methods=[\"GET\"])\n",
        "def data(symbol):\n",
        "    df = getOHLCVData(\n",
        "        symbol=symbol,\n",
        "        exchange=\"NSE\",\n",
        "        chart_interval=Interval.in_1_minute,\n",
        "        anchor=pd.to_datetime(\"2023-02-17 09:15:00+0530\"),\n",
        "        anchor_timeframe=\"1min\",\n",
        "        n_bars=5000,\n",
        "        is_future=True,\n",
        "    )\n",
        "    return jsonify(\n",
        "        {\n",
        "            \"ohlc\": df[[\"time\", \"open\", \"high\", \"low\", \"close\"]]\n",
        "            .tail(2)\n",
        "            .to_dict(orient=\"records\")[:1],\n",
        "            \"volume\": df[[\"time\", \"volume\", \"volColor\"]]\n",
        "            .rename(columns={\"volume\": \"value\", \"volColor\": \"color\"})\n",
        "            .tail(2)\n",
        "            .to_dict(orient=\"records\")[:1],\n",
        "            \"avwap\": df.dropna()[[\"time\", \"anchored_VWAP\"]]\n",
        "            .rename(columns={\"anchored_VWAP\": \"value\"})\n",
        "            .tail(2)\n",
        "            .to_dict(orient=\"records\")[:1],\n",
        "        }\n",
        "    )\n",
        "\n",
        "# Main Chart Dispaly Endpoint\n",
        "# http://127.0.0.1:5000/chart/NIFTY\n",
        "# https://rachel-exclusive-context-occupied.trycloudflare.com/chart/NIFTY\n",
        "@app.route(\"/chart/<symbol>\", methods=[\"GET\"])\n",
        "def chart(symbol):\n",
        "    return render_template_string(\n",
        "        PrepareChart(\n",
        "            symbol=symbol,\n",
        "            exchange=\"NSE\",\n",
        "            chart_interval=Interval.in_1_minute,\n",
        "            anchor=pd.to_datetime(\"2023-02-17 09:15:00+0530\"),\n",
        "            anchor_timeframe=\"1min\",\n",
        "            n_bars=5000,\n",
        "            is_future=True,\n",
        "            notebook_mode=False,\n",
        "        )\n",
        "    )\n",
        "\n",
        "run_with_cloudflared(app)  # Open a Cloudflare Tunnel when app is run\n",
        "\n",
        "# if __name__ == \"__main__\":\n",
        "app.run()\n",
        "\n",
        "# Visit the Running on Url which have `.trycloudflare.com` with suffix /chart/SYMBOLNAME\n",
        "# For Example https://fiber-theory-releases-boston.trycloudflare.com/chart/NIFTY\n",
        "# Then Stay on the same page, and after 60 second, the last minute candle will be appended to the chart automatically."
      ],
      "metadata": {
        "colab": {
          "base_uri": "https://localhost:8080/"
        },
        "id": "KfsfyBO9hOmD",
        "outputId": "ffd90c7c-7b10-4c8e-d526-5d36228b6986"
      },
      "execution_count": null,
      "outputs": [
        {
          "output_type": "stream",
          "name": "stdout",
          "text": [
            " * Serving Flask app \"__main__\" (lazy loading)\n",
            " * Environment: production\n",
            "\u001b[31m   WARNING: This is a development server. Do not use it in a production deployment.\u001b[0m\n",
            "\u001b[2m   Use a production WSGI server instead.\u001b[0m\n",
            " * Debug mode: off\n"
          ]
        },
        {
          "output_type": "stream",
          "name": "stderr",
          "text": [
            "INFO:werkzeug: * Running on http://127.0.0.1:5000/ (Press CTRL+C to quit)\n"
          ]
        },
        {
          "output_type": "stream",
          "name": "stdout",
          "text": [
            " * Running on https://fiber-theory-releases-boston.trycloudflare.com\n",
            " * Traffic stats available on http://127.0.0.1:8837/metrics\n"
          ]
        },
        {
          "output_type": "stream",
          "name": "stderr",
          "text": [
            "WARNING:tvDatafeed.main:you are using nologin method, data you access may be limited\n",
            "/usr/local/lib/python3.8/dist-packages/pandas/core/arrays/datetimes.py:1143: UserWarning: Converting to PeriodArray/Index representation will drop timezone information.\n",
            "  warnings.warn(\n",
            "INFO:werkzeug:127.0.0.1 - - [21/Feb/2023 06:49:41] \"\u001b[37mGET /chart/NIFTY HTTP/1.1\u001b[0m\" 200 -\n",
            "WARNING:tvDatafeed.main:you are using nologin method, data you access may be limited\n",
            "INFO:werkzeug:127.0.0.1 - - [21/Feb/2023 06:49:49] \"\u001b[33mGET /favicon.ico HTTP/1.1\u001b[0m\" 404 -\n",
            "INFO:werkzeug:127.0.0.1 - - [21/Feb/2023 06:49:50] \"\u001b[37mGET /data/NIFTY HTTP/1.1\u001b[0m\" 200 -\n",
            "WARNING:tvDatafeed.main:you are using nologin method, data you access may be limited\n",
            "WARNING:tvDatafeed.main:you are using nologin method, data you access may be limited\n",
            "INFO:werkzeug:127.0.0.1 - - [21/Feb/2023 06:49:54] \"\u001b[37mGET /chart/NIFTY HTTP/1.1\u001b[0m\" 200 -\n",
            "INFO:werkzeug:127.0.0.1 - - [21/Feb/2023 06:49:55] \"\u001b[37mGET /chart/NIFTY HTTP/1.1\u001b[0m\" 200 -\n",
            "WARNING:tvDatafeed.main:you are using nologin method, data you access may be limited\n",
            "INFO:werkzeug:127.0.0.1 - - [21/Feb/2023 06:50:02] \"\u001b[37mGET /data/NIFTY HTTP/1.1\u001b[0m\" 200 -\n",
            "WARNING:tvDatafeed.main:you are using nologin method, data you access may be limited\n",
            "INFO:werkzeug:127.0.0.1 - - [21/Feb/2023 06:50:07] \"\u001b[37mGET /chart/NIFTY HTTP/1.1\u001b[0m\" 200 -\n",
            "WARNING:tvDatafeed.main:you are using nologin method, data you access may be limited\n",
            "INFO:werkzeug:127.0.0.1 - - [21/Feb/2023 06:50:08] \"\u001b[37mGET /chart/NIFTY HTTP/1.1\u001b[0m\" 200 -\n",
            "INFO:werkzeug:127.0.0.1 - - [21/Feb/2023 06:50:13] \"\u001b[33mGET /favicon.ico HTTP/1.1\u001b[0m\" 404 -\n",
            "WARNING:tvDatafeed.main:you are using nologin method, data you access may be limited\n",
            "INFO:werkzeug:127.0.0.1 - - [21/Feb/2023 06:51:02] \"\u001b[37mGET /data/NIFTY HTTP/1.1\u001b[0m\" 200 -\n"
          ]
        }
      ]
    }
  ]
}